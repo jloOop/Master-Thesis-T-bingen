{
 "cells": [
  {
   "cell_type": "code",
   "execution_count": null,
   "id": "6f7943d8",
   "metadata": {},
   "outputs": [],
   "source": [
    "# -*- coding: utf-8 -*-\n",
    "\n",
    "\n",
    "import numpy as np\n",
    "import nidaqmx\n",
    "import time\n",
    "import pyvisa as visa\n",
    "import matplotlib.pyplot as plt\n",
    "import pandas as pd\n",
    "\n",
    "#FIRST PART: MODULATE AMPLITUDE\n",
    "rm = visa.ResourceManager()\n",
    "gen = rm.open_resource(r'USB0::0x1AB1::0x0642::DG1ZA241701602::INSTR') # Rigol DG1022 noise generator\n",
    "\n",
    "gen.write('*RST') # Reset the generator\n",
    "# gen.write('SOUR1:APPL:NOIS 1')  # Set the noise frequency and amplitude\n",
    "gen.write('SOUR1:APPL:SINE 10000, 0.2') \n",
    "gen.write('OUTPut1:STATe On')\n",
    "# Modulate the input current with external noise\n",
    "#for i in range(12):\n",
    "#    \n",
    "#    #voltage = float(osc.query('MEAS:VAV?'))\n",
    "#    print(f'Amplitude: {amplitude}')\n",
    "\n",
    "# Close the instruments\n",
    "\n",
    "df = pd.DataFrame()\n",
    "voltage_mean = []\n",
    "#SECOND PART: READ the VOLTAGE\n",
    "with nidaqmx.Task() as send_voltage:\n",
    "    send_voltage.ai_channels.add_ai_voltage_chan(\"Dev1/ai1\") # Set the channel to read from\n",
    "    send_voltage.timing.cfg_samp_clk_timing(rate=1000) # Set the sampling rate\n",
    "\n",
    "    # Read the voltage\n",
    "    for i in range(1, 2):\n",
    "        amplitude =  3 # Change the amplitude of the noise signal\n",
    "        # gen.write(f'SOUR1:APPL:SIN {frequ}, 2') # Set the noise amplitude\n",
    "        gen.write(f'SOUR1:APPL:NOIS {amplitude}')\n",
    "        time.sleep(1) # Wait for the noise to settle\n",
    "        voltage = send_voltage.read(number_of_samples_per_channel=5000)\n",
    "        df[f'{amplitude}V'] = voltage\n",
    "        voltage_mean.append(np.mean(voltage))\n",
    "        # print(f'Amplitude: {amplitude}')\n",
    "        # print(f'Voltage: {voltage_mean:.3f} V')\n",
    "        \n",
    "gen.write('OUTPut1:STATe OFF') # Turn off the generator\n",
    "gen.close()\n",
    "\n",
    "for i in range(1):\n",
    "    plt.plot(df.iloc[:, i])\n",
    "plt.legend()\n",
    "plt.xlabel('samples')\n",
    "plt.ylabel('Amplitude (V)')\n",
    "    \n",
    "    "
   ]
  }
 ],
 "metadata": {
  "kernelspec": {
   "display_name": "Python 3 (ipykernel)",
   "language": "python",
   "name": "python3"
  },
  "language_info": {
   "codemirror_mode": {
    "name": "ipython",
    "version": 3
   },
   "file_extension": ".py",
   "mimetype": "text/x-python",
   "name": "python",
   "nbconvert_exporter": "python",
   "pygments_lexer": "ipython3",
   "version": "3.9.13"
  }
 },
 "nbformat": 4,
 "nbformat_minor": 5
}
